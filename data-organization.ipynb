{
 "cells": [
  {
   "cell_type": "code",
   "execution_count": 1,
   "metadata": {},
   "outputs": [],
   "source": [
    "# read .csv files into pandas df\n",
    "import pandas as pd\n",
    "\n",
    "df_mvp_interaction_evidence = pd.read_csv(\"data/mvp_interaction_evidence.csv\")\n",
    "df_mvp_interactions = pd.read_csv(\"data/mvp_interactions.csv\")\n",
    "df_mvp_viral_clusters = pd.read_csv(\"data/mvp_viral_clusters.csv\")\n",
    "df_mvp_viral_cluster_seqs = pd.read_csv(\"data/mvp_viral_cluster_representative_seqs.txt\", sep=\"\\t\")"
   ]
  },
  {
   "cell_type": "code",
   "execution_count": 6,
   "metadata": {},
   "outputs": [
    {
     "name": "stdout",
     "output_type": "stream",
     "text": [
      "       interaction_uid  host_taxon_id  viral_cluster_id\n",
      "0                    1         929506               175\n",
      "1                    2            562               177\n",
      "2                    3        1116191               229\n",
      "3                    4        1116077               229\n",
      "4                    5        1090926               229\n",
      "...                ...            ...               ...\n",
      "27849            27850            338              5335\n",
      "27850            27851            629             33094\n",
      "27851            27852            629             33095\n",
      "27852            27853            629               190\n",
      "27853            27854            629             33096\n",
      "\n",
      "[27854 rows x 3 columns]\n"
     ]
    }
   ],
   "source": [
    "print(df_mvp_interactions.loc[:,[ \"interaction_uid\", \"host_taxon_id\", \"viral_cluster_id\"]])"
   ]
  },
  {
   "cell_type": "code",
   "execution_count": 2,
   "metadata": {},
   "outputs": [
    {
     "name": "stdout",
     "output_type": "stream",
     "text": [
      "       seq_uid  cluster_id  is_representative mapping_to_representative  \\\n",
      "0            1           0                  1                       NaN   \n",
      "1            2           1                  1                       NaN   \n",
      "2            3           2                  1                       NaN   \n",
      "3            4           3                  1                       NaN   \n",
      "4            5           4                  1                       NaN   \n",
      "...        ...         ...                ...                       ...   \n",
      "50777    50778       33092                  1                       NaN   \n",
      "50778    50779       33093                  1                       NaN   \n",
      "50779    50780       33094                  1                       NaN   \n",
      "50780    50781       33095                  1                       NaN   \n",
      "50781    50782       33096                  1                       NaN   \n",
      "\n",
      "        seq_name  ncbi_taxon_id  seq_length                      seq_source  \n",
      "0      NC_014637         693272    617453.0  ncbi_ref_viral_genome_database  \n",
      "1      NC_023423        1450746    610033.0  ncbi_ref_viral_genome_database  \n",
      "2      NC_023719        1084719    497513.0  ncbi_ref_viral_genome_database  \n",
      "3      NC_021312         251749    459984.0  ncbi_ref_viral_genome_database  \n",
      "4      NC_007346         181082    407339.0  ncbi_ref_viral_genome_database  \n",
      "...          ...            ...         ...                             ...  \n",
      "50777        NaN        1076759         NaN                            ICTV  \n",
      "50778        NaN        1966265         NaN                            ICTV  \n",
      "50779        NaN        1206560         NaN                            ICTV  \n",
      "50780        NaN        1351740         NaN                            ICTV  \n",
      "50781        NaN        1589265         NaN                            ICTV  \n",
      "\n",
      "[50782 rows x 8 columns]\n"
     ]
    }
   ],
   "source": [
    "print(df_mvp_viral_clusters)"
   ]
  },
  {
   "cell_type": "code",
   "execution_count": 10,
   "metadata": {},
   "outputs": [
    {
     "name": "stdout",
     "output_type": "stream",
     "text": [
      "       cluster_id   seq_name  ncbi_taxon_id\n",
      "0               0  NC_014637         693272\n",
      "1               1  NC_023423        1450746\n",
      "2               2  NC_023719        1084719\n",
      "3               3  NC_021312         251749\n",
      "4               4  NC_007346         181082\n",
      "...           ...        ...            ...\n",
      "32820       32820  NC_018451         857288\n",
      "32821       32821  NC_001546         196399\n",
      "32822       32822  NC_004033         196094\n",
      "32823       32823  NC_003380         195056\n",
      "32824       32824  NC_002566         134606\n",
      "\n",
      "[32825 rows x 3 columns]\n"
     ]
    }
   ],
   "source": [
    "print(df_mvp_viral_cluster_seqs.loc[: , [\"cluster_id\", \"seq_name\", \"ncbi_taxon_id\"]])"
   ]
  },
  {
   "cell_type": "code",
   "execution_count": 19,
   "metadata": {},
   "outputs": [
    {
     "name": "stdout",
     "output_type": "stream",
     "text": [
      "      seq_uid\\tcluster_id\\tis_representative\\tmapping_to_representative\\tseq_name\\tncbi_taxon_id\\tseq_length\\tseq_source\\tseq_str\n",
      "0      1\\t0\\t1\\t\\tNC_014637\\t693272\\t617453\\tncbi_ref...                                                                         \n",
      "1      2\\t1\\t1\\t\\tNC_023423\\t1450746\\t610033\\tncbi_re...                                                                         \n",
      "2      3\\t2\\t1\\t\\tNC_023719\\t1084719\\t497513\\tncbi_re...                                                                         \n",
      "3      4\\t3\\t1\\t\\tNC_021312\\t251749\\t459984\\tncbi_ref...                                                                         \n",
      "4      5\\t4\\t1\\t\\tNC_007346\\t181082\\t407339\\tncbi_ref...                                                                         \n",
      "...                                                  ...                                                                         \n",
      "32820  50506\\t32820\\t1\\t\\tNC_018451\\t857288\\t301\\tncb...                                                                         \n",
      "32821  50507\\t32821\\t1\\t\\tNC_001546\\t196399\\t300\\tncb...                                                                         \n",
      "32822  50508\\t32822\\t1\\t\\tNC_004033\\t196094\\t230\\tncb...                                                                         \n",
      "32823  50509\\t32823\\t1\\t\\tNC_003380\\t195056\\t220\\tncb...                                                                         \n",
      "32824  50510\\t32824\\t1\\t\\tNC_002566\\t134606\\t200\\tncb...                                                                         \n",
      "\n",
      "[32825 rows x 1 columns]\n"
     ]
    }
   ],
   "source": [
    "print(df_mvp_viral_cluster_seqs)"
   ]
  }
 ],
 "metadata": {
  "kernelspec": {
   "display_name": "Python 3",
   "language": "python",
   "name": "python3"
  },
  "language_info": {
   "codemirror_mode": {
    "name": "ipython",
    "version": 3
   },
   "file_extension": ".py",
   "mimetype": "text/x-python",
   "name": "python",
   "nbconvert_exporter": "python",
   "pygments_lexer": "ipython3",
   "version": "3.9.12"
  }
 },
 "nbformat": 4,
 "nbformat_minor": 2
}
